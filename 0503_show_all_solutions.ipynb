{
  "nbformat": 4,
  "nbformat_minor": 0,
  "metadata": {
    "colab": {
      "provenance": [],
      "include_colab_link": true
    },
    "kernelspec": {
      "name": "python3",
      "display_name": "Python 3"
    },
    "language_info": {
      "name": "python"
    }
  },
  "cells": [
    {
      "cell_type": "markdown",
      "metadata": {
        "id": "view-in-github",
        "colab_type": "text"
      },
      "source": [
        "<a href=\"https://colab.research.google.com/github/lmcanavals/cs_topics/blob/main/0503_show_all_solutions.ipynb\" target=\"_parent\"><img src=\"https://colab.research.google.com/assets/colab-badge.svg\" alt=\"Open In Colab\"/></a>"
      ]
    },
    {
      "cell_type": "code",
      "metadata": {
        "colab": {
          "base_uri": "https://localhost:8080/"
        },
        "id": "6xlTT1u0Kpbq",
        "outputId": "9372245d-a709-4a92-f33a-5bdb9d6013c8"
      },
      "source": [
        "!pip install ortools"
      ],
      "execution_count": null,
      "outputs": [
        {
          "output_type": "stream",
          "name": "stdout",
          "text": [
            "Collecting ortools\n",
            "  Downloading ortools-9.0.9048-cp37-cp37m-manylinux1_x86_64.whl (14.4 MB)\n",
            "\u001b[K     |████████████████████████████████| 14.4 MB 88 kB/s \n",
            "\u001b[?25hRequirement already satisfied: protobuf>=3.15.8 in /usr/local/lib/python3.7/dist-packages (from ortools) (3.17.3)\n",
            "Requirement already satisfied: absl-py>=0.11 in /usr/local/lib/python3.7/dist-packages (from ortools) (0.12.0)\n",
            "Requirement already satisfied: six in /usr/local/lib/python3.7/dist-packages (from absl-py>=0.11->ortools) (1.15.0)\n",
            "Installing collected packages: ortools\n",
            "Successfully installed ortools-9.0.9048\n"
          ]
        }
      ]
    },
    {
      "cell_type": "code",
      "metadata": {
        "id": "meQtuCCgK2BA"
      },
      "source": [
        "from ortools.sat.python import cp_model"
      ],
      "execution_count": null,
      "outputs": []
    },
    {
      "cell_type": "code",
      "metadata": {
        "id": "MaIqBodzMKao"
      },
      "source": [
        "class VarArraySolutionPrinter(cp_model.CpSolverSolutionCallback):\n",
        "  def __init__(self, variables):\n",
        "    cp_model.CpSolverSolutionCallback.__init__(self)\n",
        "    self.__variables = variables\n",
        "    self.__solution_count = 0\n",
        "\n",
        "  def on_solution_callback(self):\n",
        "    self.__solution_count += 1\n",
        "    for v in self.__variables:\n",
        "      print('%s=%i' % (v, self.Value(v)), end=' ')\n",
        "    print()\n",
        "\n",
        "  def solution_count(self):\n",
        "    return self.__solution_count"
      ],
      "execution_count": null,
      "outputs": []
    },
    {
      "cell_type": "code",
      "metadata": {
        "colab": {
          "base_uri": "https://localhost:8080/"
        },
        "id": "lLc690qSK73w",
        "outputId": "ae1cfc6e-b31b-40cd-c390-9e79a6ff9b71"
      },
      "source": [
        "#crear CSP\n",
        "model = cp_model.CpModel()\n",
        "#variables y dominios\n",
        "i = model.NewIntVar(0,10,'i')\n",
        "j = model.NewIntVar(0,10,'j')\n",
        "##channeling\n",
        "#b1 = model.NewBoolVar('b1')\n",
        "#b2 = model.NewBoolVar('b2')\n",
        "b = [model.NewBoolVar('b'+str(i)) for i in range(3)]\n",
        "print(b)\n",
        "#restricciones\n",
        "## x y | x => y\n",
        "## 0 0     1\n",
        "## 0 1     1\n",
        "## 1 0     0\n",
        "## 1 1     1\n",
        "## bv => (i<j)\n",
        "## 0 => 1 = 1\n",
        "## 0 => 0 = 1\n",
        "## b[0] => (i<j)\n",
        "model.Add(i<j).OnlyEnforceIf(b[0])\n",
        "## x y | x <=> y\n",
        "## 0 0     1\n",
        "## 0 1     0\n",
        "## 1 0     0\n",
        "## 1 1     1\n",
        "## (i<j) => b[0]\n",
        "model.Add(i>=j).OnlyEnforceIf(b[0].Not())\n",
        "\n",
        "#b[1] => j+1=i\n",
        "model.Add(j + 1 > i).OnlyEnforceIf(b[1])\n",
        "#b[1] <= j+1=i = not(b[1]) => not(j+1==i+5-z)\n",
        "model.Add(j + 1 <= i).OnlyEnforceIf(b[1].Not())\n",
        "\n",
        "#model.Add(b[0] + b[1] + b[2] + b[3] >= 2)\n",
        "#model.Add(b[0] + b[1] > 0)\n",
        "\n",
        "#model.Add(sum(b) <= 4)\n",
        "#model.AddBoolOr([b[0],b[1]])\n",
        "\n",
        "#b[1] <=> i*j == 40\n",
        "c = model.NewIntVar(0,40,'c')\n",
        "model.AddMultiplicationEquality(c,[i,j])\n",
        "model.Add(c == 40).OnlyEnforceIf(b[2])\n",
        "model.Add(c != 40).OnlyEnforceIf(b[2].Not())\n",
        "#model.AddBoolOr([b[0],b[1],b[2]])\n",
        "#model.Add(sum(b) >= 2)\n",
        "\n",
        "#model.Add(abs(i-j) == 3)\n",
        "#model.AddAbsEquality()"
      ],
      "execution_count": null,
      "outputs": [
        {
          "output_type": "stream",
          "name": "stdout",
          "text": [
            "[b0(0..1), b1(0..1), b2(0..1)]\n"
          ]
        },
        {
          "output_type": "execute_result",
          "data": {
            "text/plain": [
              "<ortools.sat.python.cp_model.Constraint at 0x7fc2711d7050>"
            ]
          },
          "metadata": {},
          "execution_count": 55
        }
      ]
    },
    {
      "cell_type": "code",
      "metadata": {
        "colab": {
          "base_uri": "https://localhost:8080/"
        },
        "id": "WQ80QBSgLwTG",
        "outputId": "5ccf1a87-3143-45cf-b133-1175b9098841"
      },
      "source": [
        "solver = cp_model.CpSolver()\n",
        "solution_printer = VarArraySolutionPrinter([i,j,b[0],b[1],c,b[2]])\n",
        "status = solver.SearchForAllSolutions(model, solution_printer)"
      ],
      "execution_count": null,
      "outputs": [
        {
          "output_type": "stream",
          "name": "stdout",
          "text": [
            "i=0 j=1 b0=1 b1=1 c=0 b2=0 \n",
            "i=0 j=2 b0=1 b1=1 c=0 b2=0 \n",
            "i=0 j=3 b0=1 b1=1 c=0 b2=0 \n",
            "i=0 j=4 b0=1 b1=1 c=0 b2=0 \n",
            "i=0 j=5 b0=1 b1=1 c=0 b2=0 \n",
            "i=0 j=6 b0=1 b1=1 c=0 b2=0 \n",
            "i=0 j=7 b0=1 b1=1 c=0 b2=0 \n",
            "i=0 j=8 b0=1 b1=1 c=0 b2=0 \n",
            "i=0 j=9 b0=1 b1=1 c=0 b2=0 \n",
            "i=0 j=10 b0=1 b1=1 c=0 b2=0 \n",
            "i=1 j=2 b0=1 b1=1 c=2 b2=0 \n",
            "i=1 j=3 b0=1 b1=1 c=3 b2=0 \n",
            "i=1 j=4 b0=1 b1=1 c=4 b2=0 \n",
            "i=1 j=5 b0=1 b1=1 c=5 b2=0 \n",
            "i=1 j=6 b0=1 b1=1 c=6 b2=0 \n",
            "i=1 j=7 b0=1 b1=1 c=7 b2=0 \n",
            "i=1 j=8 b0=1 b1=1 c=8 b2=0 \n",
            "i=1 j=9 b0=1 b1=1 c=9 b2=0 \n",
            "i=1 j=10 b0=1 b1=1 c=10 b2=0 \n",
            "i=2 j=3 b0=1 b1=1 c=6 b2=0 \n",
            "i=2 j=4 b0=1 b1=1 c=8 b2=0 \n",
            "i=2 j=5 b0=1 b1=1 c=10 b2=0 \n",
            "i=2 j=6 b0=1 b1=1 c=12 b2=0 \n",
            "i=2 j=7 b0=1 b1=1 c=14 b2=0 \n",
            "i=2 j=8 b0=1 b1=1 c=16 b2=0 \n",
            "i=2 j=9 b0=1 b1=1 c=18 b2=0 \n",
            "i=2 j=10 b0=1 b1=1 c=20 b2=0 \n",
            "i=3 j=4 b0=1 b1=1 c=12 b2=0 \n",
            "i=3 j=5 b0=1 b1=1 c=15 b2=0 \n",
            "i=3 j=6 b0=1 b1=1 c=18 b2=0 \n",
            "i=3 j=7 b0=1 b1=1 c=21 b2=0 \n",
            "i=3 j=8 b0=1 b1=1 c=24 b2=0 \n",
            "i=3 j=9 b0=1 b1=1 c=27 b2=0 \n",
            "i=3 j=10 b0=1 b1=1 c=30 b2=0 \n",
            "i=4 j=5 b0=1 b1=1 c=20 b2=0 \n",
            "i=4 j=6 b0=1 b1=1 c=24 b2=0 \n",
            "i=4 j=7 b0=1 b1=1 c=28 b2=0 \n",
            "i=4 j=8 b0=1 b1=1 c=32 b2=0 \n",
            "i=4 j=9 b0=1 b1=1 c=36 b2=0 \n",
            "i=4 j=10 b0=1 b1=1 c=40 b2=1 \n",
            "i=5 j=6 b0=1 b1=1 c=30 b2=0 \n",
            "i=5 j=7 b0=1 b1=1 c=35 b2=0 \n",
            "i=5 j=8 b0=1 b1=1 c=40 b2=1 \n"
          ]
        }
      ]
    },
    {
      "cell_type": "code",
      "metadata": {
        "id": "wY_M6cI1Z3KP"
      },
      "source": [
        "model.AddAllDifferent([x,y,w,z])\n",
        "#\n",
        "model.Add(x!=y)\n",
        "model.Add(x!=w)\n",
        "model.Add(x!=z)\n",
        "model.Add(y!=w)\n",
        "model.Add(y!=z)\n",
        "model.Add(w!=z)"
      ],
      "execution_count": null,
      "outputs": []
    },
    {
      "cell_type": "code",
      "metadata": {
        "colab": {
          "base_uri": "https://localhost:8080/"
        },
        "id": "0PMINxM5kvPe",
        "outputId": "f5d1166f-8d31-48b1-f7eb-04fa57120981"
      },
      "source": [
        "#crear CSP\n",
        "model = cp_model.CpModel()\n",
        "#variables y dominios\n",
        "i = model.NewIntVar(0,10,'i')\n",
        "j = model.NewIntVar(0,10,'j')\n",
        "\n",
        "k = model.NewIntVar(-100,100,'k')\n",
        "k1 = model.NewIntVar(-100,100,'k1')\n",
        "#restricciones\n",
        "model.Add(i - j == k)\n",
        "model.AddAbsEquality(k1,k)"
      ],
      "execution_count": null,
      "outputs": [
        {
          "output_type": "execute_result",
          "data": {
            "text/plain": [
              "<ortools.sat.python.cp_model.Constraint at 0x7fc2711d32d0>"
            ]
          },
          "metadata": {},
          "execution_count": 60
        }
      ]
    },
    {
      "cell_type": "code",
      "metadata": {
        "colab": {
          "base_uri": "https://localhost:8080/"
        },
        "id": "QDrRKkHokwxe",
        "outputId": "59c9d2a3-d873-48e5-9b2d-c1325790f023"
      },
      "source": [
        "solver = cp_model.CpSolver()\n",
        "solution_printer = VarArraySolutionPrinter([i,j,k,k1])\n",
        "status = solver.SearchForAllSolutions(model, solution_printer)"
      ],
      "execution_count": null,
      "outputs": [
        {
          "output_type": "stream",
          "name": "stdout",
          "text": [
            "i=0 j=10 k=-10 k1=10 \n",
            "i=0 j=9 k=-9 k1=9 \n",
            "i=0 j=8 k=-8 k1=8 \n",
            "i=0 j=7 k=-7 k1=7 \n",
            "i=0 j=6 k=-6 k1=6 \n",
            "i=0 j=5 k=-5 k1=5 \n",
            "i=0 j=4 k=-4 k1=4 \n",
            "i=0 j=3 k=-3 k1=3 \n",
            "i=0 j=2 k=-2 k1=2 \n",
            "i=0 j=1 k=-1 k1=1 \n",
            "i=0 j=0 k=0 k1=0 \n",
            "i=1 j=10 k=-9 k1=9 \n",
            "i=2 j=10 k=-8 k1=8 \n",
            "i=3 j=10 k=-7 k1=7 \n",
            "i=4 j=10 k=-6 k1=6 \n",
            "i=5 j=10 k=-5 k1=5 \n",
            "i=6 j=10 k=-4 k1=4 \n",
            "i=7 j=10 k=-3 k1=3 \n",
            "i=8 j=10 k=-2 k1=2 \n",
            "i=9 j=10 k=-1 k1=1 \n",
            "i=10 j=10 k=0 k1=0 \n",
            "i=1 j=9 k=-8 k1=8 \n",
            "i=2 j=9 k=-7 k1=7 \n",
            "i=3 j=9 k=-6 k1=6 \n",
            "i=4 j=9 k=-5 k1=5 \n",
            "i=5 j=9 k=-4 k1=4 \n",
            "i=6 j=9 k=-3 k1=3 \n",
            "i=7 j=9 k=-2 k1=2 \n",
            "i=8 j=9 k=-1 k1=1 \n",
            "i=9 j=9 k=0 k1=0 \n",
            "i=10 j=9 k=1 k1=1 \n",
            "i=1 j=8 k=-7 k1=7 \n",
            "i=2 j=8 k=-6 k1=6 \n",
            "i=3 j=8 k=-5 k1=5 \n",
            "i=4 j=8 k=-4 k1=4 \n",
            "i=5 j=8 k=-3 k1=3 \n",
            "i=6 j=8 k=-2 k1=2 \n",
            "i=7 j=8 k=-1 k1=1 \n",
            "i=8 j=8 k=0 k1=0 \n",
            "i=9 j=8 k=1 k1=1 \n",
            "i=10 j=8 k=2 k1=2 \n",
            "i=1 j=7 k=-6 k1=6 \n",
            "i=2 j=7 k=-5 k1=5 \n",
            "i=3 j=7 k=-4 k1=4 \n",
            "i=4 j=7 k=-3 k1=3 \n",
            "i=5 j=7 k=-2 k1=2 \n",
            "i=6 j=7 k=-1 k1=1 \n",
            "i=7 j=7 k=0 k1=0 \n",
            "i=8 j=7 k=1 k1=1 \n",
            "i=9 j=7 k=2 k1=2 \n",
            "i=10 j=7 k=3 k1=3 \n",
            "i=1 j=6 k=-5 k1=5 \n",
            "i=2 j=6 k=-4 k1=4 \n",
            "i=3 j=6 k=-3 k1=3 \n",
            "i=4 j=6 k=-2 k1=2 \n",
            "i=5 j=6 k=-1 k1=1 \n",
            "i=6 j=6 k=0 k1=0 \n",
            "i=7 j=6 k=1 k1=1 \n",
            "i=8 j=6 k=2 k1=2 \n",
            "i=9 j=6 k=3 k1=3 \n",
            "i=10 j=6 k=4 k1=4 \n",
            "i=1 j=5 k=-4 k1=4 \n",
            "i=2 j=5 k=-3 k1=3 \n",
            "i=3 j=5 k=-2 k1=2 \n",
            "i=4 j=5 k=-1 k1=1 \n",
            "i=5 j=5 k=0 k1=0 \n",
            "i=6 j=5 k=1 k1=1 \n",
            "i=7 j=5 k=2 k1=2 \n",
            "i=8 j=5 k=3 k1=3 \n",
            "i=9 j=5 k=4 k1=4 \n",
            "i=10 j=5 k=5 k1=5 \n",
            "i=1 j=4 k=-3 k1=3 \n",
            "i=2 j=4 k=-2 k1=2 \n",
            "i=3 j=4 k=-1 k1=1 \n",
            "i=4 j=4 k=0 k1=0 \n",
            "i=5 j=4 k=1 k1=1 \n",
            "i=6 j=4 k=2 k1=2 \n",
            "i=7 j=4 k=3 k1=3 \n",
            "i=8 j=4 k=4 k1=4 \n",
            "i=9 j=4 k=5 k1=5 \n",
            "i=10 j=4 k=6 k1=6 \n",
            "i=1 j=3 k=-2 k1=2 \n",
            "i=2 j=3 k=-1 k1=1 \n",
            "i=3 j=3 k=0 k1=0 \n",
            "i=4 j=3 k=1 k1=1 \n",
            "i=5 j=3 k=2 k1=2 \n",
            "i=6 j=3 k=3 k1=3 \n",
            "i=7 j=3 k=4 k1=4 \n",
            "i=8 j=3 k=5 k1=5 \n",
            "i=9 j=3 k=6 k1=6 \n",
            "i=10 j=3 k=7 k1=7 \n",
            "i=1 j=2 k=-1 k1=1 \n",
            "i=2 j=2 k=0 k1=0 \n",
            "i=3 j=2 k=1 k1=1 \n",
            "i=4 j=2 k=2 k1=2 \n",
            "i=5 j=2 k=3 k1=3 \n",
            "i=6 j=2 k=4 k1=4 \n",
            "i=7 j=2 k=5 k1=5 \n",
            "i=8 j=2 k=6 k1=6 \n",
            "i=9 j=2 k=7 k1=7 \n",
            "i=10 j=2 k=8 k1=8 \n",
            "i=1 j=1 k=0 k1=0 \n",
            "i=2 j=1 k=1 k1=1 \n",
            "i=3 j=1 k=2 k1=2 \n",
            "i=4 j=1 k=3 k1=3 \n",
            "i=5 j=1 k=4 k1=4 \n",
            "i=6 j=1 k=5 k1=5 \n",
            "i=7 j=1 k=6 k1=6 \n",
            "i=8 j=1 k=7 k1=7 \n",
            "i=9 j=1 k=8 k1=8 \n",
            "i=10 j=1 k=9 k1=9 \n",
            "i=1 j=0 k=1 k1=1 \n",
            "i=2 j=0 k=2 k1=2 \n",
            "i=3 j=0 k=3 k1=3 \n",
            "i=4 j=0 k=4 k1=4 \n",
            "i=5 j=0 k=5 k1=5 \n",
            "i=6 j=0 k=6 k1=6 \n",
            "i=7 j=0 k=7 k1=7 \n",
            "i=8 j=0 k=8 k1=8 \n",
            "i=9 j=0 k=9 k1=9 \n",
            "i=10 j=0 k=10 k1=10 \n"
          ]
        }
      ]
    }
  ]
}