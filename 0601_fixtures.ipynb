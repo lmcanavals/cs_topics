{
  "nbformat": 4,
  "nbformat_minor": 0,
  "metadata": {
    "colab": {
      "provenance": [],
      "authorship_tag": "ABX9TyOcS7wXAWu9lSLkb2NIv+tu",
      "include_colab_link": true
    },
    "kernelspec": {
      "name": "python3",
      "display_name": "Python 3"
    },
    "language_info": {
      "name": "python"
    }
  },
  "cells": [
    {
      "cell_type": "markdown",
      "metadata": {
        "id": "view-in-github",
        "colab_type": "text"
      },
      "source": [
        "<a href=\"https://colab.research.google.com/github/lmcanavals/cs_topics/blob/main/0601_fixtures.ipynb\" target=\"_parent\"><img src=\"https://colab.research.google.com/assets/colab-badge.svg\" alt=\"Open In Colab\"/></a>"
      ]
    },
    {
      "cell_type": "code",
      "execution_count": 1,
      "metadata": {
        "id": "57YaRZQMjMNq"
      },
      "outputs": [],
      "source": [
        "!pip install -U ortools &> /dev/null"
      ]
    },
    {
      "cell_type": "code",
      "source": [
        "from ortools.sat.python import cp_model"
      ],
      "metadata": {
        "id": "gnhXHCqajYes"
      },
      "execution_count": 2,
      "outputs": []
    },
    {
      "cell_type": "code",
      "source": [
        "federations_names = ['AFC', 'UEFA', 'Conmebol', 'CAF', 'Concacaf', 'Playoffs']\n",
        "team_names = ['Saudi Arabia', 'Catar', 'South Korea', 'Iran', 'Japan',   # AFC\n",
        "              'Germany', 'France', 'Serbia', 'Belgium', 'Switzerland',   # UEFA\n",
        "              'Croatia', 'England', 'Denmark', 'Netherlands', 'Poland',\n",
        "              'Spain', 'Portugal', 'UEFA1',\n",
        "              'Argentina', 'Brazil', 'Ecuador', 'Uruguay',               # Conmebol\n",
        "              'Cameroon', 'Morocco', 'Ghana', 'Senegal', 'Tunisia',      # CAF\n",
        "              'USA', 'Canada', 'Mexico',                                 # Concacaf\n",
        "              'AFC/Conmebol', 'OFC/Concacaf']                            # Playoffs\n",
        "for i, team in enumerate(team_names):\n",
        "    print(i, team)"
      ],
      "metadata": {
        "id": "oXvtisBHj-A5",
        "colab": {
          "base_uri": "https://localhost:8080/"
        },
        "outputId": "21e6995a-ddbc-4c3d-fb4c-0dffbb188a3b"
      },
      "execution_count": 3,
      "outputs": [
        {
          "output_type": "stream",
          "name": "stdout",
          "text": [
            "0 Saudi Arabia\n",
            "1 Catar\n",
            "2 South Korea\n",
            "3 Iran\n",
            "4 Japan\n",
            "5 Germany\n",
            "6 France\n",
            "7 Serbia\n",
            "8 Belgium\n",
            "9 Switzerland\n",
            "10 Croatia\n",
            "11 England\n",
            "12 Denmark\n",
            "13 Netherlands\n",
            "14 Poland\n",
            "15 Spain\n",
            "16 Portugal\n",
            "17 UEFA1\n",
            "18 Argentina\n",
            "19 Brazil\n",
            "20 Ecuador\n",
            "21 Uruguay\n",
            "22 Cameroon\n",
            "23 Morocco\n",
            "24 Ghana\n",
            "25 Senegal\n",
            "26 Tunisia\n",
            "27 USA\n",
            "28 Canada\n",
            "29 Mexico\n",
            "30 AFC/Conmebol\n",
            "31 OFC/Concacaf\n"
          ]
        }
      ]
    },
    {
      "cell_type": "code",
      "source": [
        "model = cp_model.CpModel()\n",
        "\n",
        "# group_i_j means team i belongs in group j\n",
        "groups = []\n",
        "for i in range(32):\n",
        "    groups.append([model.NewBoolVar(f'group_{i}_{j}') for j in range(8)])\n",
        "federations = [model.NewIntVar(1, 6, f'federation_{i}') for i in range(32)]\n",
        "bombo = [model.NewIntVar(1, 4, f'bombo_{i}') for i in range(32)]\n",
        "print(groups)\n",
        "print(federations)\n",
        "print(bombo)"
      ],
      "metadata": {
        "colab": {
          "base_uri": "https://localhost:8080/"
        },
        "id": "4c1PEg62nKGH",
        "outputId": "c4bab60c-2998-44a3-8cf1-9f4a94eb320c"
      },
      "execution_count": 4,
      "outputs": [
        {
          "output_type": "stream",
          "name": "stdout",
          "text": [
            "[[group_0_0(0..1), group_0_1(0..1), group_0_2(0..1), group_0_3(0..1), group_0_4(0..1), group_0_5(0..1), group_0_6(0..1), group_0_7(0..1)], [group_1_0(0..1), group_1_1(0..1), group_1_2(0..1), group_1_3(0..1), group_1_4(0..1), group_1_5(0..1), group_1_6(0..1), group_1_7(0..1)], [group_2_0(0..1), group_2_1(0..1), group_2_2(0..1), group_2_3(0..1), group_2_4(0..1), group_2_5(0..1), group_2_6(0..1), group_2_7(0..1)], [group_3_0(0..1), group_3_1(0..1), group_3_2(0..1), group_3_3(0..1), group_3_4(0..1), group_3_5(0..1), group_3_6(0..1), group_3_7(0..1)], [group_4_0(0..1), group_4_1(0..1), group_4_2(0..1), group_4_3(0..1), group_4_4(0..1), group_4_5(0..1), group_4_6(0..1), group_4_7(0..1)], [group_5_0(0..1), group_5_1(0..1), group_5_2(0..1), group_5_3(0..1), group_5_4(0..1), group_5_5(0..1), group_5_6(0..1), group_5_7(0..1)], [group_6_0(0..1), group_6_1(0..1), group_6_2(0..1), group_6_3(0..1), group_6_4(0..1), group_6_5(0..1), group_6_6(0..1), group_6_7(0..1)], [group_7_0(0..1), group_7_1(0..1), group_7_2(0..1), group_7_3(0..1), group_7_4(0..1), group_7_5(0..1), group_7_6(0..1), group_7_7(0..1)], [group_8_0(0..1), group_8_1(0..1), group_8_2(0..1), group_8_3(0..1), group_8_4(0..1), group_8_5(0..1), group_8_6(0..1), group_8_7(0..1)], [group_9_0(0..1), group_9_1(0..1), group_9_2(0..1), group_9_3(0..1), group_9_4(0..1), group_9_5(0..1), group_9_6(0..1), group_9_7(0..1)], [group_10_0(0..1), group_10_1(0..1), group_10_2(0..1), group_10_3(0..1), group_10_4(0..1), group_10_5(0..1), group_10_6(0..1), group_10_7(0..1)], [group_11_0(0..1), group_11_1(0..1), group_11_2(0..1), group_11_3(0..1), group_11_4(0..1), group_11_5(0..1), group_11_6(0..1), group_11_7(0..1)], [group_12_0(0..1), group_12_1(0..1), group_12_2(0..1), group_12_3(0..1), group_12_4(0..1), group_12_5(0..1), group_12_6(0..1), group_12_7(0..1)], [group_13_0(0..1), group_13_1(0..1), group_13_2(0..1), group_13_3(0..1), group_13_4(0..1), group_13_5(0..1), group_13_6(0..1), group_13_7(0..1)], [group_14_0(0..1), group_14_1(0..1), group_14_2(0..1), group_14_3(0..1), group_14_4(0..1), group_14_5(0..1), group_14_6(0..1), group_14_7(0..1)], [group_15_0(0..1), group_15_1(0..1), group_15_2(0..1), group_15_3(0..1), group_15_4(0..1), group_15_5(0..1), group_15_6(0..1), group_15_7(0..1)], [group_16_0(0..1), group_16_1(0..1), group_16_2(0..1), group_16_3(0..1), group_16_4(0..1), group_16_5(0..1), group_16_6(0..1), group_16_7(0..1)], [group_17_0(0..1), group_17_1(0..1), group_17_2(0..1), group_17_3(0..1), group_17_4(0..1), group_17_5(0..1), group_17_6(0..1), group_17_7(0..1)], [group_18_0(0..1), group_18_1(0..1), group_18_2(0..1), group_18_3(0..1), group_18_4(0..1), group_18_5(0..1), group_18_6(0..1), group_18_7(0..1)], [group_19_0(0..1), group_19_1(0..1), group_19_2(0..1), group_19_3(0..1), group_19_4(0..1), group_19_5(0..1), group_19_6(0..1), group_19_7(0..1)], [group_20_0(0..1), group_20_1(0..1), group_20_2(0..1), group_20_3(0..1), group_20_4(0..1), group_20_5(0..1), group_20_6(0..1), group_20_7(0..1)], [group_21_0(0..1), group_21_1(0..1), group_21_2(0..1), group_21_3(0..1), group_21_4(0..1), group_21_5(0..1), group_21_6(0..1), group_21_7(0..1)], [group_22_0(0..1), group_22_1(0..1), group_22_2(0..1), group_22_3(0..1), group_22_4(0..1), group_22_5(0..1), group_22_6(0..1), group_22_7(0..1)], [group_23_0(0..1), group_23_1(0..1), group_23_2(0..1), group_23_3(0..1), group_23_4(0..1), group_23_5(0..1), group_23_6(0..1), group_23_7(0..1)], [group_24_0(0..1), group_24_1(0..1), group_24_2(0..1), group_24_3(0..1), group_24_4(0..1), group_24_5(0..1), group_24_6(0..1), group_24_7(0..1)], [group_25_0(0..1), group_25_1(0..1), group_25_2(0..1), group_25_3(0..1), group_25_4(0..1), group_25_5(0..1), group_25_6(0..1), group_25_7(0..1)], [group_26_0(0..1), group_26_1(0..1), group_26_2(0..1), group_26_3(0..1), group_26_4(0..1), group_26_5(0..1), group_26_6(0..1), group_26_7(0..1)], [group_27_0(0..1), group_27_1(0..1), group_27_2(0..1), group_27_3(0..1), group_27_4(0..1), group_27_5(0..1), group_27_6(0..1), group_27_7(0..1)], [group_28_0(0..1), group_28_1(0..1), group_28_2(0..1), group_28_3(0..1), group_28_4(0..1), group_28_5(0..1), group_28_6(0..1), group_28_7(0..1)], [group_29_0(0..1), group_29_1(0..1), group_29_2(0..1), group_29_3(0..1), group_29_4(0..1), group_29_5(0..1), group_29_6(0..1), group_29_7(0..1)], [group_30_0(0..1), group_30_1(0..1), group_30_2(0..1), group_30_3(0..1), group_30_4(0..1), group_30_5(0..1), group_30_6(0..1), group_30_7(0..1)], [group_31_0(0..1), group_31_1(0..1), group_31_2(0..1), group_31_3(0..1), group_31_4(0..1), group_31_5(0..1), group_31_6(0..1), group_31_7(0..1)]]\n",
            "[federation_0(1..6), federation_1(1..6), federation_2(1..6), federation_3(1..6), federation_4(1..6), federation_5(1..6), federation_6(1..6), federation_7(1..6), federation_8(1..6), federation_9(1..6), federation_10(1..6), federation_11(1..6), federation_12(1..6), federation_13(1..6), federation_14(1..6), federation_15(1..6), federation_16(1..6), federation_17(1..6), federation_18(1..6), federation_19(1..6), federation_20(1..6), federation_21(1..6), federation_22(1..6), federation_23(1..6), federation_24(1..6), federation_25(1..6), federation_26(1..6), federation_27(1..6), federation_28(1..6), federation_29(1..6), federation_30(1..6), federation_31(1..6)]\n",
            "[bombo_0(1..4), bombo_1(1..4), bombo_2(1..4), bombo_3(1..4), bombo_4(1..4), bombo_5(1..4), bombo_6(1..4), bombo_7(1..4), bombo_8(1..4), bombo_9(1..4), bombo_10(1..4), bombo_11(1..4), bombo_12(1..4), bombo_13(1..4), bombo_14(1..4), bombo_15(1..4), bombo_16(1..4), bombo_17(1..4), bombo_18(1..4), bombo_19(1..4), bombo_20(1..4), bombo_21(1..4), bombo_22(1..4), bombo_23(1..4), bombo_24(1..4), bombo_25(1..4), bombo_26(1..4), bombo_27(1..4), bombo_28(1..4), bombo_29(1..4), bombo_30(1..4), bombo_31(1..4)]\n"
          ]
        }
      ]
    },
    {
      "cell_type": "code",
      "source": [
        "for i in range(32):\n",
        "    if i < 5:\n",
        "        model.Add(federations[i] == 1)\n",
        "    elif i < 18:\n",
        "        model.Add(federations[i] == 2)\n",
        "    elif i < 22:\n",
        "        model.Add(federations[i] == 3)\n",
        "    elif i < 27:\n",
        "        model.Add(federations[i] == 4)\n",
        "    elif i < 30:\n",
        "        model.Add(federations[i] == 5)\n",
        "    else:\n",
        "        model.Add(federations[i] == 6)\n",
        "\n",
        "for i in range(32):\n",
        "    if i in [1, 6, 8, 11, 15, 16, 18, 19]:\n",
        "        model.Add(bombo[i] == 1)\n",
        "    elif i in [5, 9, 10, 12, 13, 21, 27, 29]:\n",
        "        model.Add(bombo[i] == 2)\n",
        "    elif i in [2, 3, 4, 7, 14, 23, 25, 26]:\n",
        "        model.Add(bombo[i] == 3)\n",
        "    else:\n",
        "        model.Add(bombo[i] == 4)\n",
        "\n",
        "for i in range(32):\n",
        "    model.Add(sum(groups[i]) == 1)\n",
        "\n",
        "for j in range(8):\n",
        "    model.Add(sum([groups[i][j] for i in range(32)]) == 4)"
      ],
      "metadata": {
        "id": "cgeRWvXfqLVu"
      },
      "execution_count": 5,
      "outputs": []
    },
    {
      "cell_type": "markdown",
      "source": [
        "Different federation teams per group"
      ],
      "metadata": {
        "id": "GhXTVhrHxfje"
      }
    },
    {
      "cell_type": "code",
      "source": [
        "groups_federation = []\n",
        "groups_bombo = []\n",
        "for i in range(32):\n",
        "    groups_federation.append([model.NewIntVar(0, 1000, f'gf_{i}_{j}') for j in range(8)])\n",
        "    groups_bombo.append([model.NewIntVar(0, 1000, f'gb_{i}_{j}') for j in range(8)])\n",
        "print(groups_federation)\n",
        "print(groups_bombo)"
      ],
      "metadata": {
        "colab": {
          "base_uri": "https://localhost:8080/"
        },
        "id": "STq2lbE-xer5",
        "outputId": "e58e9319-76fb-417a-aac8-353c6b9c9546"
      },
      "execution_count": 6,
      "outputs": [
        {
          "output_type": "stream",
          "name": "stdout",
          "text": [
            "[[gf_0_0(0..1000), gf_0_1(0..1000), gf_0_2(0..1000), gf_0_3(0..1000), gf_0_4(0..1000), gf_0_5(0..1000), gf_0_6(0..1000), gf_0_7(0..1000)], [gf_1_0(0..1000), gf_1_1(0..1000), gf_1_2(0..1000), gf_1_3(0..1000), gf_1_4(0..1000), gf_1_5(0..1000), gf_1_6(0..1000), gf_1_7(0..1000)], [gf_2_0(0..1000), gf_2_1(0..1000), gf_2_2(0..1000), gf_2_3(0..1000), gf_2_4(0..1000), gf_2_5(0..1000), gf_2_6(0..1000), gf_2_7(0..1000)], [gf_3_0(0..1000), gf_3_1(0..1000), gf_3_2(0..1000), gf_3_3(0..1000), gf_3_4(0..1000), gf_3_5(0..1000), gf_3_6(0..1000), gf_3_7(0..1000)], [gf_4_0(0..1000), gf_4_1(0..1000), gf_4_2(0..1000), gf_4_3(0..1000), gf_4_4(0..1000), gf_4_5(0..1000), gf_4_6(0..1000), gf_4_7(0..1000)], [gf_5_0(0..1000), gf_5_1(0..1000), gf_5_2(0..1000), gf_5_3(0..1000), gf_5_4(0..1000), gf_5_5(0..1000), gf_5_6(0..1000), gf_5_7(0..1000)], [gf_6_0(0..1000), gf_6_1(0..1000), gf_6_2(0..1000), gf_6_3(0..1000), gf_6_4(0..1000), gf_6_5(0..1000), gf_6_6(0..1000), gf_6_7(0..1000)], [gf_7_0(0..1000), gf_7_1(0..1000), gf_7_2(0..1000), gf_7_3(0..1000), gf_7_4(0..1000), gf_7_5(0..1000), gf_7_6(0..1000), gf_7_7(0..1000)], [gf_8_0(0..1000), gf_8_1(0..1000), gf_8_2(0..1000), gf_8_3(0..1000), gf_8_4(0..1000), gf_8_5(0..1000), gf_8_6(0..1000), gf_8_7(0..1000)], [gf_9_0(0..1000), gf_9_1(0..1000), gf_9_2(0..1000), gf_9_3(0..1000), gf_9_4(0..1000), gf_9_5(0..1000), gf_9_6(0..1000), gf_9_7(0..1000)], [gf_10_0(0..1000), gf_10_1(0..1000), gf_10_2(0..1000), gf_10_3(0..1000), gf_10_4(0..1000), gf_10_5(0..1000), gf_10_6(0..1000), gf_10_7(0..1000)], [gf_11_0(0..1000), gf_11_1(0..1000), gf_11_2(0..1000), gf_11_3(0..1000), gf_11_4(0..1000), gf_11_5(0..1000), gf_11_6(0..1000), gf_11_7(0..1000)], [gf_12_0(0..1000), gf_12_1(0..1000), gf_12_2(0..1000), gf_12_3(0..1000), gf_12_4(0..1000), gf_12_5(0..1000), gf_12_6(0..1000), gf_12_7(0..1000)], [gf_13_0(0..1000), gf_13_1(0..1000), gf_13_2(0..1000), gf_13_3(0..1000), gf_13_4(0..1000), gf_13_5(0..1000), gf_13_6(0..1000), gf_13_7(0..1000)], [gf_14_0(0..1000), gf_14_1(0..1000), gf_14_2(0..1000), gf_14_3(0..1000), gf_14_4(0..1000), gf_14_5(0..1000), gf_14_6(0..1000), gf_14_7(0..1000)], [gf_15_0(0..1000), gf_15_1(0..1000), gf_15_2(0..1000), gf_15_3(0..1000), gf_15_4(0..1000), gf_15_5(0..1000), gf_15_6(0..1000), gf_15_7(0..1000)], [gf_16_0(0..1000), gf_16_1(0..1000), gf_16_2(0..1000), gf_16_3(0..1000), gf_16_4(0..1000), gf_16_5(0..1000), gf_16_6(0..1000), gf_16_7(0..1000)], [gf_17_0(0..1000), gf_17_1(0..1000), gf_17_2(0..1000), gf_17_3(0..1000), gf_17_4(0..1000), gf_17_5(0..1000), gf_17_6(0..1000), gf_17_7(0..1000)], [gf_18_0(0..1000), gf_18_1(0..1000), gf_18_2(0..1000), gf_18_3(0..1000), gf_18_4(0..1000), gf_18_5(0..1000), gf_18_6(0..1000), gf_18_7(0..1000)], [gf_19_0(0..1000), gf_19_1(0..1000), gf_19_2(0..1000), gf_19_3(0..1000), gf_19_4(0..1000), gf_19_5(0..1000), gf_19_6(0..1000), gf_19_7(0..1000)], [gf_20_0(0..1000), gf_20_1(0..1000), gf_20_2(0..1000), gf_20_3(0..1000), gf_20_4(0..1000), gf_20_5(0..1000), gf_20_6(0..1000), gf_20_7(0..1000)], [gf_21_0(0..1000), gf_21_1(0..1000), gf_21_2(0..1000), gf_21_3(0..1000), gf_21_4(0..1000), gf_21_5(0..1000), gf_21_6(0..1000), gf_21_7(0..1000)], [gf_22_0(0..1000), gf_22_1(0..1000), gf_22_2(0..1000), gf_22_3(0..1000), gf_22_4(0..1000), gf_22_5(0..1000), gf_22_6(0..1000), gf_22_7(0..1000)], [gf_23_0(0..1000), gf_23_1(0..1000), gf_23_2(0..1000), gf_23_3(0..1000), gf_23_4(0..1000), gf_23_5(0..1000), gf_23_6(0..1000), gf_23_7(0..1000)], [gf_24_0(0..1000), gf_24_1(0..1000), gf_24_2(0..1000), gf_24_3(0..1000), gf_24_4(0..1000), gf_24_5(0..1000), gf_24_6(0..1000), gf_24_7(0..1000)], [gf_25_0(0..1000), gf_25_1(0..1000), gf_25_2(0..1000), gf_25_3(0..1000), gf_25_4(0..1000), gf_25_5(0..1000), gf_25_6(0..1000), gf_25_7(0..1000)], [gf_26_0(0..1000), gf_26_1(0..1000), gf_26_2(0..1000), gf_26_3(0..1000), gf_26_4(0..1000), gf_26_5(0..1000), gf_26_6(0..1000), gf_26_7(0..1000)], [gf_27_0(0..1000), gf_27_1(0..1000), gf_27_2(0..1000), gf_27_3(0..1000), gf_27_4(0..1000), gf_27_5(0..1000), gf_27_6(0..1000), gf_27_7(0..1000)], [gf_28_0(0..1000), gf_28_1(0..1000), gf_28_2(0..1000), gf_28_3(0..1000), gf_28_4(0..1000), gf_28_5(0..1000), gf_28_6(0..1000), gf_28_7(0..1000)], [gf_29_0(0..1000), gf_29_1(0..1000), gf_29_2(0..1000), gf_29_3(0..1000), gf_29_4(0..1000), gf_29_5(0..1000), gf_29_6(0..1000), gf_29_7(0..1000)], [gf_30_0(0..1000), gf_30_1(0..1000), gf_30_2(0..1000), gf_30_3(0..1000), gf_30_4(0..1000), gf_30_5(0..1000), gf_30_6(0..1000), gf_30_7(0..1000)], [gf_31_0(0..1000), gf_31_1(0..1000), gf_31_2(0..1000), gf_31_3(0..1000), gf_31_4(0..1000), gf_31_5(0..1000), gf_31_6(0..1000), gf_31_7(0..1000)]]\n",
            "[[gb_0_0(0..1000), gb_0_1(0..1000), gb_0_2(0..1000), gb_0_3(0..1000), gb_0_4(0..1000), gb_0_5(0..1000), gb_0_6(0..1000), gb_0_7(0..1000)], [gb_1_0(0..1000), gb_1_1(0..1000), gb_1_2(0..1000), gb_1_3(0..1000), gb_1_4(0..1000), gb_1_5(0..1000), gb_1_6(0..1000), gb_1_7(0..1000)], [gb_2_0(0..1000), gb_2_1(0..1000), gb_2_2(0..1000), gb_2_3(0..1000), gb_2_4(0..1000), gb_2_5(0..1000), gb_2_6(0..1000), gb_2_7(0..1000)], [gb_3_0(0..1000), gb_3_1(0..1000), gb_3_2(0..1000), gb_3_3(0..1000), gb_3_4(0..1000), gb_3_5(0..1000), gb_3_6(0..1000), gb_3_7(0..1000)], [gb_4_0(0..1000), gb_4_1(0..1000), gb_4_2(0..1000), gb_4_3(0..1000), gb_4_4(0..1000), gb_4_5(0..1000), gb_4_6(0..1000), gb_4_7(0..1000)], [gb_5_0(0..1000), gb_5_1(0..1000), gb_5_2(0..1000), gb_5_3(0..1000), gb_5_4(0..1000), gb_5_5(0..1000), gb_5_6(0..1000), gb_5_7(0..1000)], [gb_6_0(0..1000), gb_6_1(0..1000), gb_6_2(0..1000), gb_6_3(0..1000), gb_6_4(0..1000), gb_6_5(0..1000), gb_6_6(0..1000), gb_6_7(0..1000)], [gb_7_0(0..1000), gb_7_1(0..1000), gb_7_2(0..1000), gb_7_3(0..1000), gb_7_4(0..1000), gb_7_5(0..1000), gb_7_6(0..1000), gb_7_7(0..1000)], [gb_8_0(0..1000), gb_8_1(0..1000), gb_8_2(0..1000), gb_8_3(0..1000), gb_8_4(0..1000), gb_8_5(0..1000), gb_8_6(0..1000), gb_8_7(0..1000)], [gb_9_0(0..1000), gb_9_1(0..1000), gb_9_2(0..1000), gb_9_3(0..1000), gb_9_4(0..1000), gb_9_5(0..1000), gb_9_6(0..1000), gb_9_7(0..1000)], [gb_10_0(0..1000), gb_10_1(0..1000), gb_10_2(0..1000), gb_10_3(0..1000), gb_10_4(0..1000), gb_10_5(0..1000), gb_10_6(0..1000), gb_10_7(0..1000)], [gb_11_0(0..1000), gb_11_1(0..1000), gb_11_2(0..1000), gb_11_3(0..1000), gb_11_4(0..1000), gb_11_5(0..1000), gb_11_6(0..1000), gb_11_7(0..1000)], [gb_12_0(0..1000), gb_12_1(0..1000), gb_12_2(0..1000), gb_12_3(0..1000), gb_12_4(0..1000), gb_12_5(0..1000), gb_12_6(0..1000), gb_12_7(0..1000)], [gb_13_0(0..1000), gb_13_1(0..1000), gb_13_2(0..1000), gb_13_3(0..1000), gb_13_4(0..1000), gb_13_5(0..1000), gb_13_6(0..1000), gb_13_7(0..1000)], [gb_14_0(0..1000), gb_14_1(0..1000), gb_14_2(0..1000), gb_14_3(0..1000), gb_14_4(0..1000), gb_14_5(0..1000), gb_14_6(0..1000), gb_14_7(0..1000)], [gb_15_0(0..1000), gb_15_1(0..1000), gb_15_2(0..1000), gb_15_3(0..1000), gb_15_4(0..1000), gb_15_5(0..1000), gb_15_6(0..1000), gb_15_7(0..1000)], [gb_16_0(0..1000), gb_16_1(0..1000), gb_16_2(0..1000), gb_16_3(0..1000), gb_16_4(0..1000), gb_16_5(0..1000), gb_16_6(0..1000), gb_16_7(0..1000)], [gb_17_0(0..1000), gb_17_1(0..1000), gb_17_2(0..1000), gb_17_3(0..1000), gb_17_4(0..1000), gb_17_5(0..1000), gb_17_6(0..1000), gb_17_7(0..1000)], [gb_18_0(0..1000), gb_18_1(0..1000), gb_18_2(0..1000), gb_18_3(0..1000), gb_18_4(0..1000), gb_18_5(0..1000), gb_18_6(0..1000), gb_18_7(0..1000)], [gb_19_0(0..1000), gb_19_1(0..1000), gb_19_2(0..1000), gb_19_3(0..1000), gb_19_4(0..1000), gb_19_5(0..1000), gb_19_6(0..1000), gb_19_7(0..1000)], [gb_20_0(0..1000), gb_20_1(0..1000), gb_20_2(0..1000), gb_20_3(0..1000), gb_20_4(0..1000), gb_20_5(0..1000), gb_20_6(0..1000), gb_20_7(0..1000)], [gb_21_0(0..1000), gb_21_1(0..1000), gb_21_2(0..1000), gb_21_3(0..1000), gb_21_4(0..1000), gb_21_5(0..1000), gb_21_6(0..1000), gb_21_7(0..1000)], [gb_22_0(0..1000), gb_22_1(0..1000), gb_22_2(0..1000), gb_22_3(0..1000), gb_22_4(0..1000), gb_22_5(0..1000), gb_22_6(0..1000), gb_22_7(0..1000)], [gb_23_0(0..1000), gb_23_1(0..1000), gb_23_2(0..1000), gb_23_3(0..1000), gb_23_4(0..1000), gb_23_5(0..1000), gb_23_6(0..1000), gb_23_7(0..1000)], [gb_24_0(0..1000), gb_24_1(0..1000), gb_24_2(0..1000), gb_24_3(0..1000), gb_24_4(0..1000), gb_24_5(0..1000), gb_24_6(0..1000), gb_24_7(0..1000)], [gb_25_0(0..1000), gb_25_1(0..1000), gb_25_2(0..1000), gb_25_3(0..1000), gb_25_4(0..1000), gb_25_5(0..1000), gb_25_6(0..1000), gb_25_7(0..1000)], [gb_26_0(0..1000), gb_26_1(0..1000), gb_26_2(0..1000), gb_26_3(0..1000), gb_26_4(0..1000), gb_26_5(0..1000), gb_26_6(0..1000), gb_26_7(0..1000)], [gb_27_0(0..1000), gb_27_1(0..1000), gb_27_2(0..1000), gb_27_3(0..1000), gb_27_4(0..1000), gb_27_5(0..1000), gb_27_6(0..1000), gb_27_7(0..1000)], [gb_28_0(0..1000), gb_28_1(0..1000), gb_28_2(0..1000), gb_28_3(0..1000), gb_28_4(0..1000), gb_28_5(0..1000), gb_28_6(0..1000), gb_28_7(0..1000)], [gb_29_0(0..1000), gb_29_1(0..1000), gb_29_2(0..1000), gb_29_3(0..1000), gb_29_4(0..1000), gb_29_5(0..1000), gb_29_6(0..1000), gb_29_7(0..1000)], [gb_30_0(0..1000), gb_30_1(0..1000), gb_30_2(0..1000), gb_30_3(0..1000), gb_30_4(0..1000), gb_30_5(0..1000), gb_30_6(0..1000), gb_30_7(0..1000)], [gb_31_0(0..1000), gb_31_1(0..1000), gb_31_2(0..1000), gb_31_3(0..1000), gb_31_4(0..1000), gb_31_5(0..1000), gb_31_6(0..1000), gb_31_7(0..1000)]]\n"
          ]
        }
      ]
    },
    {
      "cell_type": "code",
      "source": [
        "for i in range(32):\n",
        "    for j in range(8):\n",
        "        model.AddMultiplicationEquality(groups_federation[i][j], [federations[i], groups[i][j]])\n",
        "        model.AddMultiplicationEquality(groups_bombo[i][j], [bombo[i], groups[i][j]])"
      ],
      "metadata": {
        "id": "qefVENmRydLd"
      },
      "execution_count": null,
      "outputs": []
    },
    {
      "cell_type": "code",
      "source": [
        "def count_vars(model, x, val, c):\n",
        "    b = [model.NewBoolVar(f'b{i}') for i in range(len(x))]\n",
        "    for i in range(len(x)):\n",
        "        model.Add(x[i] == val).OnlyEnforceIf(b[i])\n",
        "        model.Add(x[i] != val).OnlyEnforceIf(b[i].Not())\n",
        "    model.Add(c == sum(b))"
      ],
      "metadata": {
        "id": "xXuId_KszvAz"
      },
      "execution_count": 7,
      "outputs": []
    },
    {
      "cell_type": "code",
      "source": [
        "count = {}\n",
        "for j in range(8):\n",
        "    for k in range(1, 7):\n",
        "        count[(k, j)] = model.NewIntVar(0, 1000, f'count_{k}_{j}')\n",
        "        count_vars(model, [groups_federation[i][j] for i in range(32)], k, count[(k, j)])\n",
        "        if k == 2: # UEFA\n",
        "            model.Add(count[(k, j)] <= 2)\n",
        "        else:\n",
        "            model.Add(count[(k, j)] <= 1)\n",
        "\n",
        "count_bombos = {}\n",
        "for j in range(8):\n",
        "    for k in range(1, 5):\n",
        "        count_bombos[(k, j)] = model.NewIntVar(0, 1000, f'cb_{k}_{j}')\n",
        "        count_vars(model, [groups_bombo[i][j] for i in range(32)], j, count_bombos[(k, j)])\n",
        "        model.Add(count_bombos[(k, j)] <= 1)"
      ],
      "metadata": {
        "id": "5ZHIY2oF0O1U"
      },
      "execution_count": 8,
      "outputs": []
    },
    {
      "cell_type": "markdown",
      "source": [
        "## Solving"
      ],
      "metadata": {
        "id": "xQAMfW_f2wN_"
      }
    },
    {
      "cell_type": "code",
      "source": [
        "solver = cp_model.CpSolver()\n",
        "status = solver.Solve(model)"
      ],
      "metadata": {
        "id": "Vb53ssxU6y32"
      },
      "execution_count": 11,
      "outputs": []
    },
    {
      "cell_type": "code",
      "source": [
        "if status == cp_model.OPTIMAL:\n",
        "    print('\\t', end='')\n",
        "    for i in range(32):\n",
        "        print(solver.Value(federations[i]), end='\\t')\n",
        "    print()\n",
        "    print('\\t', end='')\n",
        "    for i in range(32):\n",
        "        print(i+1, end='\\t')\n",
        "    print()\n",
        "    for j in range(8):\n",
        "        print(f'G{j+1}', end='->\\t')\n",
        "        for i in range(32):\n",
        "            print(solver.Value(groups[i][j]), end='\\t')\n",
        "        print()\n",
        "    print()\n",
        "    for j in range(8):\n",
        "        print(f'G{j+1}', end='->\\t')\n",
        "        for i in range(32):\n",
        "            if solver.Value(groups[i][j]):\n",
        "                s = f\"{team_names[i]}({federations_names[solver.Value(federations[i]) - 1]})\"\n",
        "                print(f\"{s}{' '*(20-len(s))}\", end='\\t')\n",
        "        [print(solver.Value(count[(k, j)]), end=' ') for k in range(1, 7)]\n",
        "        print(end='\\t')\n",
        "        [print(solver.Value(count_bombos[(k, j)]), end=' ') for k in range(1, 5)]\n",
        "        print()"
      ],
      "metadata": {
        "colab": {
          "base_uri": "https://localhost:8080/"
        },
        "id": "9xE7p56T2eMp",
        "outputId": "8570b51b-0551-45b2-c81b-3efeb3070928"
      },
      "execution_count": 12,
      "outputs": [
        {
          "output_type": "stream",
          "name": "stdout",
          "text": [
            "\t1\t1\t1\t1\t1\t2\t2\t2\t2\t2\t2\t2\t2\t2\t2\t2\t2\t2\t3\t3\t3\t3\t4\t4\t4\t4\t4\t5\t5\t5\t6\t6\t\n",
            "\t1\t2\t3\t4\t5\t6\t7\t8\t9\t10\t11\t12\t13\t14\t15\t16\t17\t18\t19\t20\t21\t22\t23\t24\t25\t26\t27\t28\t29\t30\t31\t32\t\n",
            "G1->\t0\t0\t0\t0\t0\t0\t1\t0\t0\t0\t0\t0\t0\t1\t0\t0\t0\t0\t0\t0\t0\t0\t0\t0\t0\t1\t1\t0\t0\t0\t0\t0\t\n",
            "G2->\t0\t0\t0\t0\t1\t0\t0\t0\t0\t0\t1\t1\t0\t0\t0\t0\t0\t0\t0\t0\t0\t0\t0\t1\t0\t0\t0\t0\t0\t0\t0\t0\t\n",
            "G3->\t0\t0\t1\t0\t0\t0\t0\t0\t0\t0\t0\t0\t1\t0\t1\t0\t0\t0\t0\t0\t0\t0\t0\t0\t0\t0\t0\t0\t0\t1\t0\t0\t\n",
            "G4->\t1\t1\t0\t0\t0\t0\t0\t0\t0\t0\t0\t0\t0\t0\t0\t0\t0\t1\t0\t0\t0\t0\t0\t0\t1\t0\t0\t0\t0\t0\t0\t0\t\n",
            "G5->\t0\t0\t0\t0\t0\t1\t0\t1\t0\t0\t0\t0\t0\t0\t0\t0\t1\t0\t0\t0\t0\t1\t0\t0\t0\t0\t0\t0\t0\t0\t0\t0\t\n",
            "G6->\t0\t0\t0\t1\t0\t0\t0\t0\t1\t0\t0\t0\t0\t0\t0\t0\t0\t0\t1\t0\t0\t0\t0\t0\t0\t0\t0\t0\t0\t0\t1\t0\t\n",
            "G7->\t0\t0\t0\t0\t0\t0\t0\t0\t0\t0\t0\t0\t0\t0\t0\t0\t0\t0\t0\t0\t1\t0\t1\t0\t0\t0\t0\t1\t0\t0\t0\t1\t\n",
            "G8->\t0\t0\t0\t0\t0\t0\t0\t0\t0\t1\t0\t0\t0\t0\t0\t1\t0\t0\t0\t1\t0\t0\t0\t0\t0\t0\t0\t0\t1\t0\t0\t0\t\n",
            "\n",
            "G1->\tFrance(UEFA)        \tNetherlands(UEFA)   \tSenegal(CAF)        \tTunisia(CAF)        \t0 0 0 0 0 0 \t0 0 0 0 \n",
            "G2->\tJapan(AFC)          \tCroatia(UEFA)       \tEngland(UEFA)       \tMorocco(CAF)        \t0 0 0 0 0 0 \t0 0 0 0 \n",
            "G3->\tSouth Korea(AFC)    \tDenmark(UEFA)       \tPoland(UEFA)        \tMexico(Concacaf)    \t0 0 0 0 0 0 \t0 0 0 0 \n",
            "G4->\tSaudi Arabia(AFC)   \tCatar(AFC)          \tUEFA1(UEFA)         \tGhana(CAF)          \t0 0 0 0 0 0 \t0 0 0 0 \n",
            "G5->\tGermany(UEFA)       \tSerbia(UEFA)        \tPortugal(UEFA)      \tUruguay(Conmebol)   \t0 0 0 0 0 0 \t0 0 0 0 \n",
            "G6->\tIran(AFC)           \tBelgium(UEFA)       \tArgentina(Conmebol) \tAFC/Conmebol(Playoffs)\t0 0 0 0 0 0 \t0 0 0 0 \n",
            "G7->\tEcuador(Conmebol)   \tCameroon(CAF)       \tUSA(Concacaf)       \tOFC/Concacaf(Playoffs)\t0 0 0 0 0 0 \t0 0 0 0 \n",
            "G8->\tSwitzerland(UEFA)   \tSpain(UEFA)         \tBrazil(Conmebol)    \tCanada(Concacaf)    \t0 0 0 0 0 1 \t0 0 0 0 \n"
          ]
        }
      ]
    },
    {
      "cell_type": "code",
      "source": [],
      "metadata": {
        "id": "xIbgcOm64gtD"
      },
      "execution_count": null,
      "outputs": []
    }
  ]
}