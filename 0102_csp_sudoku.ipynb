{
  "nbformat": 4,
  "nbformat_minor": 0,
  "metadata": {
    "colab": {
      "provenance": [],
      "authorship_tag": "ABX9TyOci4mwWmtD2FvlDGlfLegN",
      "include_colab_link": true
    },
    "kernelspec": {
      "name": "python3",
      "display_name": "Python 3"
    },
    "language_info": {
      "name": "python"
    }
  },
  "cells": [
    {
      "cell_type": "markdown",
      "metadata": {
        "id": "view-in-github",
        "colab_type": "text"
      },
      "source": [
        "<a href=\"https://colab.research.google.com/github/lmcanavals/cs_topics/blob/main/0102_csp_sudoku.ipynb\" target=\"_parent\"><img src=\"https://colab.research.google.com/assets/colab-badge.svg\" alt=\"Open In Colab\"/></a>"
      ]
    },
    {
      "cell_type": "markdown",
      "source": [
        "#### Simple procedural problem\n"
      ],
      "metadata": {
        "id": "xwsdAWINVQVm"
      }
    },
    {
      "cell_type": "code",
      "execution_count": null,
      "metadata": {
        "colab": {
          "base_uri": "https://localhost:8080/"
        },
        "id": "lD5ZOesNXFEw",
        "outputId": "629a7ff7-6971-485b-f779-dda1b8bb05cf"
      },
      "outputs": [
        {
          "output_type": "stream",
          "name": "stdout",
          "text": [
            "2 1 3\n"
          ]
        }
      ],
      "source": [
        "for x1 in [1, 2]:\n",
        "    for x2 in [1, 2]:\n",
        "        if x1 != x2:\n",
        "            for x3 in [1, 2, 3]:\n",
        "                if x1 != x3 and x2 != x3:\n",
        "                    if 3*x1 + x2 + x3 == 10:\n",
        "                        print(x1, x2, x3)"
      ]
    },
    {
      "cell_type": "markdown",
      "source": [
        "## Sudoku procedural"
      ],
      "metadata": {
        "id": "qLg4-YnGdghO"
      }
    },
    {
      "cell_type": "code",
      "source": [
        "%%file sudoku\n",
        "4 0 8 0 0 0 0 0 0\n",
        "0 0 0 1 7 0 0 0 0\n",
        "0 0 0 0 8 0 0 3 2\n",
        "0 0 6 0 0 8 2 5 0\n",
        "0 9 0 0 0 0 0 8 0\n",
        "0 3 7 6 0 0 9 0 0\n",
        "2 7 0 0 5 0 0 0 0\n",
        "0 0 0 0 1 4 0 0 0\n",
        "0 0 0 0 0 0 6 0 4"
      ],
      "metadata": {
        "colab": {
          "base_uri": "https://localhost:8080/"
        },
        "id": "uXpiszw0eC2g",
        "outputId": "b630b20d-9274-4911-f785-9e42a1222940"
      },
      "execution_count": null,
      "outputs": [
        {
          "output_type": "stream",
          "name": "stdout",
          "text": [
            "Writing sudoku\n"
          ]
        }
      ]
    },
    {
      "cell_type": "code",
      "source": [
        "import numpy as np"
      ],
      "metadata": {
        "id": "xJ6-yKWwe5WL"
      },
      "execution_count": null,
      "outputs": []
    },
    {
      "cell_type": "code",
      "source": [
        "def showBoard(board):\n",
        "    for i in range(9):\n",
        "        for j in range(9):\n",
        "            if board[i, j, 0] <= 0:\n",
        "                print(' ', end=' ')\n",
        "            else:\n",
        "                print(board[i, j, 0], end=' ')\n",
        "        print()"
      ],
      "metadata": {
        "id": "8V5k5gckjU4Z"
      },
      "execution_count": null,
      "outputs": []
    },
    {
      "cell_type": "code",
      "source": [
        "def load(file):\n",
        "    b = np.loadtxt(file, dtype=int)\n",
        "    board = np.zeros((9, 9, 10), dtype=int)\n",
        "    for i in range(9):\n",
        "        for j in range(9):\n",
        "            for k in range(1, 10):\n",
        "                board[i, j, k] = k\n",
        "    board[:, :, 0] = b\n",
        "    return board\n",
        "board = load('sudoku')\n",
        "showBoard(board)"
      ],
      "metadata": {
        "colab": {
          "base_uri": "https://localhost:8080/"
        },
        "id": "a5jsRGrde73C",
        "outputId": "057f6e14-a139-4915-ef7b-e09d89efd4ac"
      },
      "execution_count": null,
      "outputs": [
        {
          "output_type": "stream",
          "name": "stdout",
          "text": [
            "4   8             \n",
            "      1 7         \n",
            "        8     3 2 \n",
            "    6     8 2 5   \n",
            "  9           8   \n",
            "  3 7 6     9     \n",
            "2 7     5         \n",
            "        1 4       \n",
            "            6   4 \n"
          ]
        }
      ]
    },
    {
      "cell_type": "code",
      "source": [
        "def solve(board):\n",
        "    face = board[:,:,0]\n",
        "    face[face==0] = -9\n",
        "\n",
        "    while True:\n",
        "        for i in range(9):\n",
        "            for j in range(9):\n",
        "                if face[i, j] > 0:\n",
        "                    l = face[i, j]\n",
        "                    for k in range(9):\n",
        "                        if face[k, j] < 0 and board[k, j, l] != 0:\n",
        "                            board[k, j, l] = 0\n",
        "                            face[k, j] += 1\n",
        "                        if face[i, k] < 0 and board[i, k, l] != 0:\n",
        "                            board[i, k, l] = 0\n",
        "                            face[i, k] += 1\n",
        "        for p in range(3):\n",
        "            for q in range(3):\n",
        "                #print(face[p*3:(p+1)*3, q*3:(q+1)*3])\n",
        "                for r in range(3):\n",
        "                    for s in range(3):\n",
        "                        i = p*3 + r\n",
        "                        j = q*3 + s\n",
        "                        if face[i, j] > 0:\n",
        "                            l = face[i, j]\n",
        "                            for t in range(3):\n",
        "                                for s in range(3):\n",
        "                                    i = p*3 + t\n",
        "                                    j = q*3 + s\n",
        "                                    if face[i, j] < 0 and board[i, j, l] != 0:\n",
        "                                        board[i, j, l] = 0\n",
        "                                        face[i, j] += 1\n",
        "\n",
        "        count = 0\n",
        "        for i in range(9):\n",
        "            for j in range(9):\n",
        "                if face[i, j] == -1:\n",
        "                    for k in range(1, 10):\n",
        "                        if board[i, j, k] != 0:\n",
        "                            face[i, j] = k\n",
        "                            count += 1\n",
        "                            break\n",
        "        if count == 0:\n",
        "            break\n",
        "\n",
        "board = load('sudoku')\n",
        "showBoard(board)\n",
        "solve(board)\n",
        "print()\n",
        "showBoard(board)"
      ],
      "metadata": {
        "colab": {
          "base_uri": "https://localhost:8080/"
        },
        "id": "onKASnkcXhaj",
        "outputId": "7c72b653-0864-4216-c938-dd83021d8b46"
      },
      "execution_count": null,
      "outputs": [
        {
          "output_type": "stream",
          "name": "stdout",
          "text": [
            "4   8             \n",
            "      1 7         \n",
            "        8     3 2 \n",
            "    6     8 2 5   \n",
            "  9           8   \n",
            "  3 7 6     9     \n",
            "2 7     5         \n",
            "        1 4       \n",
            "            6   4 \n",
            "\n",
            "4   8             \n",
            "      1 7         \n",
            "        8     3 2 \n",
            "1 4 6     8 2 5   \n",
            "5 9 2         8   \n",
            "8 3 7 6 2 5 9 4 1 \n",
            "2 7     5         \n",
            "        1 4       \n",
            "            6   4 \n"
          ]
        }
      ]
    },
    {
      "cell_type": "code",
      "source": [],
      "metadata": {
        "id": "LU0mRN9siDcN"
      },
      "execution_count": null,
      "outputs": []
    }
  ]
}