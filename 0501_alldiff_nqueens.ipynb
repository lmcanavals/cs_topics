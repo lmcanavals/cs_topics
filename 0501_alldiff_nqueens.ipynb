{
  "nbformat": 4,
  "nbformat_minor": 0,
  "metadata": {
    "colab": {
      "provenance": [],
      "authorship_tag": "ABX9TyMqKPM+Q4W9QznY4Zjv7xO5",
      "include_colab_link": true
    },
    "kernelspec": {
      "name": "python3",
      "display_name": "Python 3"
    },
    "language_info": {
      "name": "python"
    }
  },
  "cells": [
    {
      "cell_type": "markdown",
      "metadata": {
        "id": "view-in-github",
        "colab_type": "text"
      },
      "source": [
        "<a href=\"https://colab.research.google.com/github/lmcanavals/cs_topics/blob/main/0501_alldiff_nqueens.ipynb\" target=\"_parent\"><img src=\"https://colab.research.google.com/assets/colab-badge.svg\" alt=\"Open In Colab\"/></a>"
      ]
    },
    {
      "cell_type": "markdown",
      "source": [
        "# N Queens"
      ],
      "metadata": {
        "id": "Fwz5i28f1-hm"
      }
    },
    {
      "cell_type": "code",
      "execution_count": null,
      "metadata": {
        "id": "ddoXGsoI0z19"
      },
      "outputs": [],
      "source": [
        "!python -m pip install ortools &> /dev/null"
      ]
    },
    {
      "cell_type": "code",
      "source": [
        "from ortools.sat.python import cp_model\n",
        "import numpy as np\n",
        "import matplotlib.pyplot as plt"
      ],
      "metadata": {
        "id": "wcj7kktn07JO"
      },
      "execution_count": 7,
      "outputs": []
    },
    {
      "cell_type": "code",
      "source": [
        "def showBoard(board: list):\n",
        "    n = len(board)\n",
        "    b = np.zeros((n, n, 3), dtype=int)\n",
        "    b[:, :] = [230, 150, 130]\n",
        "    b[::2, ::2] = [250, 210, 180]\n",
        "    b[1::2, 1::2] = [250, 210, 180]\n",
        "    plt.imshow(b)\n",
        "    for row, col in enumerate(board):\n",
        "        if col != -1:\n",
        "            plt.text(col, row, u\"\\u265B\", size=200/n, ha='center', va='center')\n",
        "    plt.axis(\"off\")\n",
        "    plt.show()"
      ],
      "metadata": {
        "id": "dpA0ZdJ57NOu"
      },
      "execution_count": 9,
      "outputs": []
    },
    {
      "cell_type": "code",
      "source": [
        "model = cp_model.CpModel()\n",
        "\n",
        "n = 8\n",
        "queens = [model.NewIntVar(0, n-1, f\"x_{i}\") for i in range(n)]\n",
        "model.AddAllDifferent(queens)\n",
        "model.AddAllDifferent(queens[i] + i for i in range(n))\n",
        "model.AddAllDifferent(queens[i] - i for i in range(n))\n",
        "\n",
        "solver = cp_model.CpSolver()\n",
        "if solver.Solve(model) == cp_model.OPTIMAL:\n",
        "    board = [solver.Value(queens[i]) for i in range(n)]\n",
        "    showBoard(board)\n",
        "else:\n",
        "    print(\":(\")"
      ],
      "metadata": {
        "colab": {
          "base_uri": "https://localhost:8080/",
          "height": 406
        },
        "id": "_QxAaaSY1Tiv",
        "outputId": "1a808764-bb6b-4530-9357-84de40944e40"
      },
      "execution_count": 12,
      "outputs": [
        {
          "output_type": "display_data",
          "data": {
            "text/plain": [
              "<Figure size 640x480 with 1 Axes>"
            ],
            "image/png": "[encoded data removed]"
          },
          "metadata": {}
        }
      ]
    },
    {
      "cell_type": "code",
      "source": [],
      "metadata": {
        "id": "mySeN4lA43S6"
      },
      "execution_count": null,
      "outputs": []
    }
  ]
}