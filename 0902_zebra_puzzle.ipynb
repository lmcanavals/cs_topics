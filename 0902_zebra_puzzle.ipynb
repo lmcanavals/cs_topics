{
  "nbformat": 4,
  "nbformat_minor": 0,
  "metadata": {
    "colab": {
      "provenance": [],
      "include_colab_link": true
    },
    "kernelspec": {
      "name": "python3",
      "display_name": "Python 3"
    },
    "language_info": {
      "name": "python"
    }
  },
  "cells": [
    {
      "cell_type": "markdown",
      "metadata": {
        "id": "view-in-github",
        "colab_type": "text"
      },
      "source": [
        "<a href=\"https://colab.research.google.com/github/lmcanavals/cs_topics/blob/main/0902_zebra_puzzle.ipynb\" target=\"_parent\"><img src=\"https://colab.research.google.com/assets/colab-badge.svg\" alt=\"Open In Colab\"/></a>"
      ]
    },
    {
      "cell_type": "code",
      "execution_count": 1,
      "metadata": {
        "id": "ggXtW579zq1C"
      },
      "outputs": [],
      "source": [
        "!pip install ortools &> /dev/null"
      ]
    },
    {
      "cell_type": "code",
      "source": [
        "from ortools.sat.python import cp_model\n",
        "\n",
        "#crear CSP\n",
        "model = cp_model.CpModel()\n",
        "#variables y dominios\n",
        "##N = [English, Swedish, Danish, German, Norwegian]\n",
        "N = [model.NewIntVar(   1,5,'N_'+str(i)) for i in range(5)]\n",
        "##B = [Tea, Coffe, Milk, Beer, Water]\n",
        "B = [model.NewIntVar(1,5,'N_'+str(i)) for i in range(5)]\n",
        "##P = [Dog, Birds, Cats, Horse, Zebra]\n",
        "P = [model.NewIntVar(1,5,'N_'+str(i)) for i in range(5)]\n",
        "##C = [Red, Green, White, Blue, Yellow]\n",
        "C = [model.NewIntVar(1,5,'N_'+str(i)) for i in range(5)]\n",
        "##L = [PallMall, Dunhill, BlueMaster, Prince, Blend]\n",
        "L = [model.NewIntVar(1,5,'N_'+str(i)) for i in range(5)]\n",
        "\n",
        "#restricciones\n",
        "##todos tienen atributos distintos\n",
        "model.AddAllDifferent(N) #nacionalidades\n",
        "model.AddAllDifferent(B) #bebidas\n",
        "model.AddAllDifferent(P) #mascotas\n",
        "model.AddAllDifferent(C) #colores\n",
        "model.AddAllDifferent(L) #cigarros\n",
        "\n",
        "#función para determinar si la variable x1 tomar el valor v1 si y solo si la variable x2 toma el valor v2 en una de las casas\n",
        "def exists(model, x1, v1, x2, v2):\n",
        "  ex = [model.NewBoolVar('e_'+str(j)) for j in range(5)]\n",
        "  for i in range(5): #para cada casa\n",
        "    #x1[i] vale v1\n",
        "    ##ex[i] --> x1[i] == v1\n",
        "    model.Add(x1[i] == v1).OnlyEnforceIf(ex[i])\n",
        "    ##ex[i] <-- x1[i] == v1 <===> not(ex[i]) --> not(x1[i] == v1)\n",
        "    model.Add(x1[i] != v1).OnlyEnforceIf(ex[i].Not())\n",
        "    #x2[i] vale v2\n",
        "    #(ex[i] <--> x2[i] == v2)\n",
        "    #(ex[i] --> x2[i] == v2) and (ex[i] <-- x2[i] == v2)\n",
        "    #(ex[i] --> x2[i] == v2) and (not(ex[i]) --> not(x2[i] == v2))\n",
        "    #(ex[i] --> x2[i] == v2) and (not(ex[i]) --> x2[i] != v2)\n",
        "    ##ex[i] --> x2[i] == v2\n",
        "    model.Add(x2[i] == v2).OnlyEnforceIf(ex[i])\n",
        "    ##ex[i] <-- x2[i] == v2 <===> not(ex[i]) --> not(x2[i] == v2)\n",
        "    model.Add(x2[i] != v2).OnlyEnforceIf(ex[i].Not())\n",
        "  #se deben cumplir ambas condiciones en exactamente 1 casa\n",
        "  model.Add(sum(ex) == 1)\n",
        "\n",
        "#función para determinar si la variable x1 tomar el valor v1 en una casa contigua a otra donde la variable x2 toma el valor v2\n",
        "def neighbor(model, x1, v1, x2, v2):\n",
        "  n = [model.NewBoolVar('n_'+str(j)) for j in range(4)]\n",
        "  for i in range(4): #para cada casa con vecinos\n",
        "    b = [model.NewBoolVar('b_'+str(j)) for j in range(2)]\n",
        "    ##n[i] <--> (x1[i] == v1)\n",
        "    model.Add(x1[i] == v1).OnlyEnforceIf(b[0])\n",
        "    model.Add(x1[i] != v1).OnlyEnforceIf(b[0].Not())\n",
        "    ##n[i] <--> (x2[i+1] == v2)\n",
        "    model.Add(x2[i+1] == v2).OnlyEnforceIf(b[1])\n",
        "    model.Add(x2[i+1] != v2).OnlyEnforceIf(b[1].Not())\n",
        "    #model.Add(sum(b) == n[i])\n",
        "    model.Add(sum(b) == 2).OnlyEnforceIf(n[i])\n",
        "    model.Add(sum(b) != 2).OnlyEnforceIf(n[i].Not())\n",
        "  return n\n",
        "\n",
        "##The English man lives in the red house.\n",
        "exists(model, N, 1, C, 1)\n",
        "##The Swede has a dog.\n",
        "exists(model, N, 2, P, 1)\n",
        "##The Dane drinks tea.\n",
        "exists(model, N, 3, B, 1)\n",
        "##The green house is immediately to the left of the white house.\n",
        "model.Add(sum(neighbor(model,C,2,C,3)) == 1)\n",
        "##They drink coffee in the green house.\n",
        "exists(model, B, 2, C, 2)\n",
        "##The man who smokes Pall Mall has birds.\n",
        "exists(model, L, 1, P, 2)\n",
        "##In the yellow house they smoke Dunhill.\n",
        "exists(model, C, 5, L, 2)\n",
        "##In the middle house they drink milk.\n",
        "model.Add(B[2] == 3)\n",
        "##The Norwegian lives in the first house.\n",
        "model.Add(N[0] == 5)\n",
        "##The man who smokes Blend lives in the house next to the house with cats.\n",
        "model.Add(sum(neighbor(model,L,5,P,3)) + sum(neighbor(model,P,3,L,5)) == 1)\n",
        "##In a house next to the house where they have a horse, they smoke Dunhill.\n",
        "model.Add(sum(neighbor(model,L,2,P,4)) + sum(neighbor(model,P,4,L,2)) == 1)\n",
        "##The man who smokes Blue Master drinks beer.\n",
        "exists(model, L, 3, B, 4)\n",
        "##The German smokes Prince.\n",
        "exists(model, N, 4, L, 4)\n",
        "##The Norwegian lives next to the blue house.\n",
        "model.Add(sum(neighbor(model,N,5,C,4)) + sum(neighbor(model,C,4,N,5)) == 1)\n",
        "##They drink water in a house next to the house where they smoke Blend.\n",
        "model.Add(sum(neighbor(model,B,5,L,5)) + sum(neighbor(model,L,5,B,5)) == 1)\n",
        "\n",
        "#solver\n",
        "solver = cp_model.CpSolver()\n",
        "status = solver.Solve(model)\n",
        "if status == cp_model.OPTIMAL:\n",
        "  print('N', [solver.Value(x) for x in N])\n",
        "  print('B', [solver.Value(x) for x in B])\n",
        "  print('P', [solver.Value(x) for x in P])\n",
        "  print('C', [solver.Value(x) for x in C])\n",
        "  print('L', [solver.Value(x) for x in L])\n",
        "  Nz = ['English', 'Swedish', 'Danish', 'German', 'Norwegian']\n",
        "  Bz = ['Tea', 'Coffe', 'Milk', 'Beer', 'Water']\n",
        "  Pz = ['Dog', 'Birds', 'Cats', 'Horse', 'Zebra']\n",
        "  Cz = ['Red', 'Green', 'White', 'Blue', 'Yellow']\n",
        "  Lz = ['PallMall', 'Dunhill', 'BlueMaster', 'Prince', 'Blend']\n",
        "  for i in range(5):\n",
        "    print('En la casa {}:\\t'.format(i+1),\n",
        "          Nz[solver.Value(N[i]) - 1],'\\t',\n",
        "          Bz[solver.Value(B[i]) - 1],'\\t',\n",
        "          Pz[solver.Value(P[i]) - 1],'\\t',\n",
        "          Cz[solver.Value(C[i]) - 1],'\\t',\n",
        "          Lz[solver.Value(L[i]) - 1])"
      ],
      "metadata": {
        "colab": {
          "base_uri": "https://localhost:8080/"
        },
        "id": "FzUAhi-A0FYD",
        "outputId": "c26df920-95b8-4fc1-cc26-895e8c98c693"
      },
      "execution_count": 2,
      "outputs": [
        {
          "output_type": "stream",
          "name": "stdout",
          "text": [
            "N [5, 3, 1, 4, 2]\n",
            "B [5, 1, 3, 2, 4]\n",
            "P [3, 4, 2, 5, 1]\n",
            "C [5, 4, 1, 2, 3]\n",
            "L [2, 5, 1, 4, 3]\n",
            "En la casa 1:\t Norwegian \t Water \t Cats \t Yellow \t Dunhill\n",
            "En la casa 2:\t Danish \t Tea \t Horse \t Blue \t Blend\n",
            "En la casa 3:\t English \t Milk \t Birds \t Red \t PallMall\n",
            "En la casa 4:\t German \t Coffe \t Zebra \t Green \t Prince\n",
            "En la casa 5:\t Swedish \t Beer \t Dog \t White \t BlueMaster\n"
          ]
        }
      ]
    },
    {
      "cell_type": "code",
      "source": [],
      "metadata": {
        "id": "K50TYmm56d3W"
      },
      "execution_count": null,
      "outputs": []
    }
  ]
}